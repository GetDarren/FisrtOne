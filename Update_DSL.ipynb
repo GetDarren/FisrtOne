{
 "cells": [
  {
   "cell_type": "code",
   "execution_count": 46,
   "metadata": {},
   "outputs": [],
   "source": [
    "import sqlalchemy as sa\n",
    "import os\n",
    "import time\n",
    "import pyodbc\n",
    "import pandas as pd\n",
    "import urllib\n",
    "import numpy as np\n",
    "import uuid"
   ]
  },
  {
   "cell_type": "code",
   "execution_count": null,
   "metadata": {},
   "outputs": [],
   "source": [
    "!pip install pymssql --proxy="
   ]
  },
  {
   "cell_type": "code",
   "execution_count": 49,
   "metadata": {},
   "outputs": [
    {
     "ename": "ModuleNotFoundError",
     "evalue": "No module named 'pymssql'",
     "output_type": "error",
     "traceback": [
      "\u001b[1;31m---------------------------------------------------------------------------\u001b[0m",
      "\u001b[1;31mModuleNotFoundError\u001b[0m                       Traceback (most recent call last)",
      "\u001b[1;32m<ipython-input-49-3107f35d8086>\u001b[0m in \u001b[0;36m<module>\u001b[1;34m()\u001b[0m\n\u001b[1;32m----> 1\u001b[1;33m \u001b[1;32mimport\u001b[0m \u001b[0mpymssql\u001b[0m\u001b[1;33m\u001b[0m\u001b[0m\n\u001b[0m\u001b[0;32m      2\u001b[0m \u001b[1;32mimport\u001b[0m \u001b[0mpandas\u001b[0m \u001b[1;32mas\u001b[0m \u001b[0mpd\u001b[0m\u001b[1;33m\u001b[0m\u001b[0m\n\u001b[0;32m      3\u001b[0m \u001b[1;33m\u001b[0m\u001b[0m\n\u001b[0;32m      4\u001b[0m \u001b[1;31m# ------------------------------\u001b[0m\u001b[1;33m\u001b[0m\u001b[1;33m\u001b[0m\u001b[0m\n\u001b[0;32m      5\u001b[0m \u001b[1;31m# -- Create Dataframe\u001b[0m\u001b[1;33m\u001b[0m\u001b[1;33m\u001b[0m\u001b[0m\n",
      "\u001b[1;31mModuleNotFoundError\u001b[0m: No module named 'pymssql'"
     ]
    }
   ],
   "source": [
    "import pymssql\n",
    "import pandas as pd\n",
    " \n",
    "# ------------------------------\n",
    "# -- Create Dataframe\n",
    "# ------------------------------\n",
    "df = pd.DataFrame({\"col1\":[111,222,333], \"col2\":['a1','a2','a3',]})\n",
    " \n",
    "print (df)\n",
    "print (\"... dataframe\", \".\" * 100, \"\\n\")\n",
    " \n",
    " \n",
    "# ------------------------------\n",
    "# -- Connection String\n",
    "# ------------------------------\n",
    "conn = pymssql.connect(host=\"MXABISERVER\\SQLEXPRESS\", user=\"TSTENG_MXA\", password=\"micron123\", database=\"TSTENG_MXA\")\n",
    "cur = conn.cursor()\n",
    " \n",
    " \n",
    "# ------------------------------\n",
    "# -- Create SQL\n",
    "# ------------------------------\n",
    "sql = \"insert into Test_byJack values(%d, %s);\"\n",
    "data = [tuple(x) for x in df.values]\n",
    " \n",
    "print(\"sql:\", sql)\n",
    "print(\"data:\", data)\n",
    "print (\",,, sql_statement\", \",\" * 100, \"\\n\")\n",
    " \n",
    " \n",
    "# ------------------------------\n",
    "# -- Execute SQL\n",
    "# ------------------------------\n",
    "cur.executemany(sql, data)\n",
    "conn.commit()"
   ]
  },
  {
   "cell_type": "code",
   "execution_count": null,
   "metadata": {},
   "outputs": [],
   "source": [
    "df = pd.read_sql(\"\"\"SELECT * FROM sites_disable\"\"\", conn)"
   ]
  },
  {
   "cell_type": "code",
   "execution_count": 3,
   "metadata": {},
   "outputs": [],
   "source": [
    "server = 'xawsql80.xacn.micron.com'\n",
    "database = 'TSTENG_MXA'\n",
    "username = 'TSTENG_MXA'\n",
    "password = 'micron123'\n",
    "conn = pyodbc.connect(DRIVER='{SQL Server Native Client 11.0}', SERVER='XTMSSPROD45\\XTMSSPROD45',\n",
    "                        DATABASE=database, UID=username, PWD=password)\n",
    "params = urllib.parse.quote(\"DRIVER={SQL Server Native Client 11.0};SERVER=XTMSSPROD45\\XTMSSPROD45;DATABASE=TSTENG_MXA;UID=TSTENG_MXA;PWD=micron123\")\n",
    "engine = sa.create_engine(\"mssql+pyodbc:///?odbc_connect=%s\" % params)"
   ]
  },
  {
   "cell_type": "code",
   "execution_count": 4,
   "metadata": {},
   "outputs": [],
   "source": [
    "df = pd.read_sql(\"\"\"SELECT * FROM sites_disable\"\"\", conn)"
   ]
  },
  {
   "cell_type": "code",
   "execution_count": 9,
   "metadata": {},
   "outputs": [
    {
     "data": {
      "text/plain": [
       "620712"
      ]
     },
     "execution_count": 9,
     "metadata": {},
     "output_type": "execute_result"
    }
   ],
   "source": [
    "len(sites_df)"
   ]
  },
  {
   "cell_type": "code",
   "execution_count": 7,
   "metadata": {},
   "outputs": [],
   "source": [
    "site_df = pd.read_sql(\"\"\"SELECT * FROM site_disable\"\"\", conn)"
   ]
  },
  {
   "cell_type": "code",
   "execution_count": 8,
   "metadata": {},
   "outputs": [
    {
     "data": {
      "text/plain": [
       "781598"
      ]
     },
     "execution_count": 8,
     "metadata": {},
     "output_type": "execute_result"
    }
   ],
   "source": [
    "len(site_df)"
   ]
  },
  {
   "cell_type": "code",
   "execution_count": 10,
   "metadata": {},
   "outputs": [],
   "source": [
    "site_df.drop(columns = ['uuid'],inplace= True)"
   ]
  },
  {
   "cell_type": "code",
   "execution_count": 11,
   "metadata": {},
   "outputs": [],
   "source": [
    "sites_df.drop(columns = ['uuid'],inplace= True)"
   ]
  },
  {
   "cell_type": "code",
   "execution_count": null,
   "metadata": {},
   "outputs": [],
   "source": []
  },
  {
   "cell_type": "code",
   "execution_count": 15,
   "metadata": {},
   "outputs": [],
   "source": [
    "save_df = [site_df, sites_df]"
   ]
  },
  {
   "cell_type": "code",
   "execution_count": 16,
   "metadata": {},
   "outputs": [],
   "source": [
    "df = pd.concat(save_df)"
   ]
  },
  {
   "cell_type": "code",
   "execution_count": 18,
   "metadata": {},
   "outputs": [],
   "source": [
    "df = df.drop_duplicates()"
   ]
  },
  {
   "cell_type": "code",
   "execution_count": 19,
   "metadata": {},
   "outputs": [],
   "source": [
    "df.index = range(len(df))"
   ]
  },
  {
   "cell_type": "code",
   "execution_count": 33,
   "metadata": {},
   "outputs": [
    {
     "name": "stderr",
     "output_type": "stream",
     "text": [
      "C:\\Users\\darrenzhou\\AppData\\Local\\Continuum\\anaconda3\\lib\\site-packages\\ipykernel\\__main__.py:2: UserWarning: Boolean Series key will be reindexed to match DataFrame index.\n",
      "  from ipykernel import kernelapp as app\n"
     ]
    }
   ],
   "source": [
    "temp = df[df['slash_lot'] == 'DQN/HL/BQ/21UNH']\n",
    "tmp = temp[df['site'] == 117]"
   ]
  },
  {
   "cell_type": "code",
   "execution_count": 45,
   "metadata": {},
   "outputs": [
    {
     "data": {
      "text/plain": [
       "0          None\n",
       "1277186    NA  \n",
       "Name: register, dtype: object"
      ]
     },
     "execution_count": 45,
     "metadata": {},
     "output_type": "execute_result"
    }
   ],
   "source": [
    "tmp['register']."
   ]
  },
  {
   "cell_type": "code",
   "execution_count": 20,
   "metadata": {},
   "outputs": [
    {
     "name": "stderr",
     "output_type": "stream",
     "text": [
      "C:\\Users\\darrenzhou\\AppData\\Local\\Continuum\\anaconda3\\lib\\site-packages\\ipykernel\\__main__.py:1: SettingWithCopyWarning: \n",
      "A value is trying to be set on a copy of a slice from a DataFrame.\n",
      "Try using .loc[row_indexer,col_indexer] = value instead\n",
      "\n",
      "See the caveats in the documentation: http://pandas.pydata.org/pandas-docs/stable/indexing.html#indexing-view-versus-copy\n",
      "  if __name__ == '__main__':\n",
      "C:\\Users\\darrenzhou\\AppData\\Local\\Continuum\\anaconda3\\lib\\site-packages\\ipykernel\\__main__.py:2: SettingWithCopyWarning: \n",
      "A value is trying to be set on a copy of a slice from a DataFrame.\n",
      "Try using .loc[row_indexer,col_indexer] = value instead\n",
      "\n",
      "See the caveats in the documentation: http://pandas.pydata.org/pandas-docs/stable/indexing.html#indexing-view-versus-copy\n",
      "  from ipykernel import kernelapp as app\n"
     ]
    }
   ],
   "source": [
    "df['uuid'] = pd.Series(None, index=df.index)\n",
    "df['uuid'] = df['uuid'].apply(lambda x : uuid.uuid4().hex)"
   ]
  },
  {
   "cell_type": "code",
   "execution_count": 22,
   "metadata": {},
   "outputs": [],
   "source": [
    "df.to_csv(\"site_disable.csv\",index=False)"
   ]
  },
  {
   "cell_type": "code",
   "execution_count": 11,
   "metadata": {},
   "outputs": [],
   "source": [
    "df = pd.read_csv(\"site_disable.csv\")"
   ]
  },
  {
   "cell_type": "code",
   "execution_count": 40,
   "metadata": {},
   "outputs": [],
   "source": [
    "pd.set_option('display.max_columns', None)  "
   ]
  },
  {
   "cell_type": "code",
   "execution_count": 41,
   "metadata": {
    "scrolled": true
   },
   "outputs": [
    {
     "data": {
      "text/html": [
       "<div>\n",
       "<style scoped>\n",
       "    .dataframe tbody tr th:only-of-type {\n",
       "        vertical-align: middle;\n",
       "    }\n",
       "\n",
       "    .dataframe tbody tr th {\n",
       "        vertical-align: top;\n",
       "    }\n",
       "\n",
       "    .dataframe thead th {\n",
       "        text-align: right;\n",
       "    }\n",
       "</style>\n",
       "<table border=\"1\" class=\"dataframe\">\n",
       "  <thead>\n",
       "    <tr style=\"text-align: right;\">\n",
       "      <th></th>\n",
       "      <th>mfg_workweek</th>\n",
       "      <th>design_id</th>\n",
       "      <th>lot</th>\n",
       "      <th>slash_lot</th>\n",
       "      <th>date</th>\n",
       "      <th>status</th>\n",
       "      <th>head</th>\n",
       "      <th>site</th>\n",
       "      <th>DSL</th>\n",
       "      <th>step</th>\n",
       "      <th>test_type</th>\n",
       "      <th>temperature</th>\n",
       "      <th>number_of_die_in_pkg</th>\n",
       "      <th>speed</th>\n",
       "      <th>total_sites</th>\n",
       "      <th>configuration_width</th>\n",
       "      <th>configuration_depth</th>\n",
       "      <th>lead_count</th>\n",
       "      <th>package_length</th>\n",
       "      <th>package_width</th>\n",
       "      <th>fab</th>\n",
       "      <th>LB</th>\n",
       "      <th>id</th>\n",
       "      <th>bin</th>\n",
       "      <th>register</th>\n",
       "      <th>reason</th>\n",
       "      <th>socket</th>\n",
       "      <th>TFBGA</th>\n",
       "      <th>machine_id</th>\n",
       "      <th>column_no</th>\n",
       "      <th>row_no</th>\n",
       "    </tr>\n",
       "  </thead>\n",
       "  <tbody>\n",
       "    <tr>\n",
       "      <th>0</th>\n",
       "      <td>201824</td>\n",
       "      <td>Z01B</td>\n",
       "      <td>DQNHLBQ.21U</td>\n",
       "      <td>DQN/HL/BQ/21UNH</td>\n",
       "      <td>05:03:42 6/10/2018</td>\n",
       "      <td>DISABLE</td>\n",
       "      <td>1</td>\n",
       "      <td>117</td>\n",
       "      <td>5.05</td>\n",
       "      <td>HSRT</td>\n",
       "      <td>NORMAL</td>\n",
       "      <td>88C</td>\n",
       "      <td>1</td>\n",
       "      <td>075E</td>\n",
       "      <td>256</td>\n",
       "      <td>X8</td>\n",
       "      <td>1G</td>\n",
       "      <td>78/117</td>\n",
       "      <td>12.0</td>\n",
       "      <td>8.0</td>\n",
       "      <td>fab15</td>\n",
       "      <td>LB:593-20586</td>\n",
       "      <td>z_return_disable.pl</td>\n",
       "      <td>Bin 7</td>\n",
       "      <td>None</td>\n",
       "      <td>marginal site</td>\n",
       "      <td>S3C3P9</td>\n",
       "      <td>TFBGA</td>\n",
       "      <td>SM3016-0208</td>\n",
       "      <td>5</td>\n",
       "      <td>9</td>\n",
       "    </tr>\n",
       "    <tr>\n",
       "      <th>1</th>\n",
       "      <td>201823</td>\n",
       "      <td>Z01M</td>\n",
       "      <td>PT82300.53U</td>\n",
       "      <td>PT8/23/00/53UNS</td>\n",
       "      <td>16:47:26 6/7/2018</td>\n",
       "      <td>DISABLE</td>\n",
       "      <td>1</td>\n",
       "      <td>49</td>\n",
       "      <td>8.48</td>\n",
       "      <td>SCRN</td>\n",
       "      <td>NORMAL</td>\n",
       "      <td>108C</td>\n",
       "      <td>2</td>\n",
       "      <td>062</td>\n",
       "      <td>128</td>\n",
       "      <td>X32</td>\n",
       "      <td>512M</td>\n",
       "      <td>200/264</td>\n",
       "      <td>14.5</td>\n",
       "      <td>10.0</td>\n",
       "      <td>fab11</td>\n",
       "      <td>LB:593-22740</td>\n",
       "      <td>TSMAuto</td>\n",
       "      <td>Bin 7</td>\n",
       "      <td>shorts_VDD2#</td>\n",
       "      <td>Failed Yield Criteria</td>\n",
       "      <td>S0C3P8</td>\n",
       "      <td>WFBGA</td>\n",
       "      <td>SM3016-0015</td>\n",
       "      <td>1</td>\n",
       "      <td>10</td>\n",
       "    </tr>\n",
       "    <tr>\n",
       "      <th>2</th>\n",
       "      <td>201823</td>\n",
       "      <td>Z01H</td>\n",
       "      <td>DQGD48Q.21U</td>\n",
       "      <td>DQG/D4/8Q/21UNH</td>\n",
       "      <td>08:23:08 6/7/2018</td>\n",
       "      <td>DISABLE</td>\n",
       "      <td>1</td>\n",
       "      <td>29</td>\n",
       "      <td>10.83</td>\n",
       "      <td>HSRT1</td>\n",
       "      <td>NORMAL</td>\n",
       "      <td>98C</td>\n",
       "      <td>1</td>\n",
       "      <td>110</td>\n",
       "      <td>128</td>\n",
       "      <td>X32</td>\n",
       "      <td>256M</td>\n",
       "      <td>190/266</td>\n",
       "      <td>14.0</td>\n",
       "      <td>10.0</td>\n",
       "      <td>fab11</td>\n",
       "      <td>LB:593-22351</td>\n",
       "      <td>z_return_disable.pl</td>\n",
       "      <td>Bin 7</td>\n",
       "      <td>None</td>\n",
       "      <td>marginal site</td>\n",
       "      <td>S1C3P14</td>\n",
       "      <td>TFBGA</td>\n",
       "      <td>SM3016-0021</td>\n",
       "      <td>5</td>\n",
       "      <td>13</td>\n",
       "    </tr>\n",
       "    <tr>\n",
       "      <th>3</th>\n",
       "      <td>201825</td>\n",
       "      <td>Z11B</td>\n",
       "      <td>DQRN5JQ.21U</td>\n",
       "      <td>DQR/N5/JQ/21UNH</td>\n",
       "      <td>00:20:07 6/17/2018</td>\n",
       "      <td>DISABLE</td>\n",
       "      <td>1</td>\n",
       "      <td>128</td>\n",
       "      <td>5.01</td>\n",
       "      <td>HSRT</td>\n",
       "      <td>NORMAL</td>\n",
       "      <td>88C</td>\n",
       "      <td>1</td>\n",
       "      <td>068</td>\n",
       "      <td>256</td>\n",
       "      <td>X8</td>\n",
       "      <td>1G</td>\n",
       "      <td>78/117</td>\n",
       "      <td>11.0</td>\n",
       "      <td>7.5</td>\n",
       "      <td>fab16</td>\n",
       "      <td>LB:593-20586</td>\n",
       "      <td>z_return_disable.pl</td>\n",
       "      <td>Bin 7</td>\n",
       "      <td>None</td>\n",
       "      <td>marginal site</td>\n",
       "      <td>S2C2P11</td>\n",
       "      <td>TFBGA</td>\n",
       "      <td>SM3016-0148</td>\n",
       "      <td>16</td>\n",
       "      <td>9</td>\n",
       "    </tr>\n",
       "    <tr>\n",
       "      <th>4</th>\n",
       "      <td>201823</td>\n",
       "      <td>Z11B</td>\n",
       "      <td>DQY9X7Q.21U</td>\n",
       "      <td>DQY/9X/7Q/21UNZ</td>\n",
       "      <td>02:47:08 6/7/2018</td>\n",
       "      <td>DISABLE</td>\n",
       "      <td>1</td>\n",
       "      <td>167</td>\n",
       "      <td>5.22</td>\n",
       "      <td>CFIN</td>\n",
       "      <td>NORMAL</td>\n",
       "      <td>-5C</td>\n",
       "      <td>1</td>\n",
       "      <td>068</td>\n",
       "      <td>256</td>\n",
       "      <td>X8</td>\n",
       "      <td>1G</td>\n",
       "      <td>78/117</td>\n",
       "      <td>11.0</td>\n",
       "      <td>7.5</td>\n",
       "      <td>fab11</td>\n",
       "      <td>LB:593-20586</td>\n",
       "      <td>z_return_disable.pl</td>\n",
       "      <td>Bin 7</td>\n",
       "      <td>None</td>\n",
       "      <td>marginal site</td>\n",
       "      <td>S1C2P5</td>\n",
       "      <td>TFBGA</td>\n",
       "      <td>SM3016-0057</td>\n",
       "      <td>7</td>\n",
       "      <td>6</td>\n",
       "    </tr>\n",
       "  </tbody>\n",
       "</table>\n",
       "</div>"
      ],
      "text/plain": [
       "  mfg_workweek design_id          lot        slash_lot                date  \\\n",
       "0  201824       Z01B      DQNHLBQ.21U  DQN/HL/BQ/21UNH  05:03:42 6/10/2018   \n",
       "1  201823       Z01M      PT82300.53U  PT8/23/00/53UNS  16:47:26 6/7/2018    \n",
       "2  201823       Z01H      DQGD48Q.21U  DQG/D4/8Q/21UNH  08:23:08 6/7/2018    \n",
       "3  201825       Z11B      DQRN5JQ.21U  DQR/N5/JQ/21UNH  00:20:07 6/17/2018   \n",
       "4  201823       Z11B      DQY9X7Q.21U  DQY/9X/7Q/21UNZ  02:47:08 6/7/2018    \n",
       "\n",
       "    status head  site    DSL   step test_type temperature  \\\n",
       "0  DISABLE  1    117   5.05   HSRT   NORMAL    88C          \n",
       "1  DISABLE  1    49    8.48   SCRN   NORMAL    108C         \n",
       "2  DISABLE  1    29    10.83  HSRT1  NORMAL    98C          \n",
       "3  DISABLE  1    128   5.01   HSRT   NORMAL    88C          \n",
       "4  DISABLE  1    167   5.22   CFIN   NORMAL    -5C          \n",
       "\n",
       "  number_of_die_in_pkg speed total_sites configuration_width  \\\n",
       "0  1                    075E  256         X8                   \n",
       "1  2                    062   128         X32                  \n",
       "2  1                    110   128         X32                  \n",
       "3  1                    068   256         X8                   \n",
       "4  1                    068   256         X8                   \n",
       "\n",
       "  configuration_depth lead_count package_length package_width    fab  \\\n",
       "0  1G                  78/117     12.0           8.0           fab15   \n",
       "1  512M                200/264    14.5           10.0          fab11   \n",
       "2  256M                190/266    14.0           10.0          fab11   \n",
       "3  1G                  78/117     11.0           7.5           fab16   \n",
       "4  1G                  78/117     11.0           7.5           fab11   \n",
       "\n",
       "             LB                   id    bin      register  \\\n",
       "0  LB:593-20586  z_return_disable.pl  Bin 7  None           \n",
       "1  LB:593-22740  TSMAuto              Bin 7  shorts_VDD2#   \n",
       "2  LB:593-22351  z_return_disable.pl  Bin 7  None           \n",
       "3  LB:593-20586  z_return_disable.pl  Bin 7  None           \n",
       "4  LB:593-20586  z_return_disable.pl  Bin 7  None           \n",
       "\n",
       "                  reason   socket  TFBGA   machine_id  column_no  row_no  \n",
       "0  marginal site          S3C3P9   TFBGA  SM3016-0208  5          9       \n",
       "1  Failed Yield Criteria  S0C3P8   WFBGA  SM3016-0015  1          10      \n",
       "2  marginal site          S1C3P14  TFBGA  SM3016-0021  5          13      \n",
       "3  marginal site          S2C2P11  TFBGA  SM3016-0148  16         9       \n",
       "4  marginal site          S1C2P5   TFBGA  SM3016-0057  7          6       "
      ]
     },
     "execution_count": 41,
     "metadata": {},
     "output_type": "execute_result"
    }
   ],
   "source": [
    "df.head()"
   ]
  },
  {
   "cell_type": "code",
   "execution_count": 17,
   "metadata": {},
   "outputs": [],
   "source": [
    "df = df.astype({'mfg_workweek':str,'head':str,'DSL':str,'number_of_die_in_pkg':str,'total_sites':str,'package_length':str,'package_width':str})"
   ]
  },
  {
   "cell_type": "code",
   "execution_count": 19,
   "metadata": {},
   "outputs": [],
   "source": [
    "df.to_sql(\"site_disable\",engine,if_exists=\"append\",index=False)"
   ]
  },
  {
   "cell_type": "code",
   "execution_count": null,
   "metadata": {},
   "outputs": [],
   "source": []
  },
  {
   "cell_type": "code",
   "execution_count": 27,
   "metadata": {},
   "outputs": [
    {
     "data": {
      "text/plain": [
       "'urn:uuid:f735be63-d464-4d86-94a8-89f7bf525b17'"
      ]
     },
     "execution_count": 27,
     "metadata": {},
     "output_type": "execute_result"
    }
   ],
   "source": [
    "uuid.uuid4().urn"
   ]
  },
  {
   "cell_type": "code",
   "execution_count": null,
   "metadata": {},
   "outputs": [],
   "source": []
  }
 ],
 "metadata": {
  "kernelspec": {
   "display_name": "Python [conda env:anaconda3]",
   "language": "python",
   "name": "conda-env-anaconda3-py"
  },
  "language_info": {
   "codemirror_mode": {
    "name": "ipython",
    "version": 3
   },
   "file_extension": ".py",
   "mimetype": "text/x-python",
   "name": "python",
   "nbconvert_exporter": "python",
   "pygments_lexer": "ipython3",
   "version": "3.6.4"
  }
 },
 "nbformat": 4,
 "nbformat_minor": 2
}
