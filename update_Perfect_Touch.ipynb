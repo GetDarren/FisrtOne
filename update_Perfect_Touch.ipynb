{
 "cells": [
  {
   "cell_type": "code",
   "execution_count": 30,
   "metadata": {},
   "outputs": [],
   "source": [
    "import sqlalchemy as sa\n",
    "import os\n",
    "import time\n",
    "import pyodbc\n",
    "import pandas as pd\n",
    "import urllib\n",
    "import numpy as np\n",
    "import uuid"
   ]
  },
  {
   "cell_type": "code",
   "execution_count": 31,
   "metadata": {},
   "outputs": [],
   "source": [
    "server = 'xawsql80.xacn.micron.com'\n",
    "database = 'TSTENG_MXA'\n",
    "username = 'TSTENG_MXA'\n",
    "password = 'micron123'\n",
    "conn = pyodbc.connect(DRIVER='{SQL Server Native Client 11.0}', SERVER='XTMSSPROD45\\XTMSSPROD45',\n",
    "                        DATABASE=database, UID=username, PWD=password)\n",
    "params = urllib.parse.quote(\"DRIVER={SQL Server Native Client 11.0};SERVER=XTMSSPROD45\\XTMSSPROD45;DATABASE=TSTENG_MXA;UID=TSTENG_MXA;PWD=micron123\")\n",
    "engine = sa.create_engine(\"mssql+pyodbc:///?odbc_connect=%s\" % params)"
   ]
  },
  {
   "cell_type": "code",
   "execution_count": 15,
   "metadata": {},
   "outputs": [],
   "source": [
    "df = pd.read_csv(r\"C:\\Users\\darrenzhou\\Desktop\\perfect_touch.csv\")"
   ]
  },
  {
   "cell_type": "code",
   "execution_count": 16,
   "metadata": {},
   "outputs": [
    {
     "data": {
      "text/plain": [
       "RangeIndex(start=0, stop=65803, step=1)"
      ]
     },
     "execution_count": 16,
     "metadata": {},
     "output_type": "execute_result"
    }
   ],
   "source": [
    "df.index"
   ]
  },
  {
   "cell_type": "code",
   "execution_count": 17,
   "metadata": {},
   "outputs": [],
   "source": [
    "df = df.drop_duplicates()"
   ]
  },
  {
   "cell_type": "code",
   "execution_count": 21,
   "metadata": {},
   "outputs": [],
   "source": [
    "df.index = range(len(df))"
   ]
  },
  {
   "cell_type": "code",
   "execution_count": 22,
   "metadata": {},
   "outputs": [
    {
     "data": {
      "text/plain": [
       "RangeIndex(start=0, stop=62501, step=1)"
      ]
     },
     "execution_count": 22,
     "metadata": {},
     "output_type": "execute_result"
    }
   ],
   "source": [
    "df.index"
   ]
  },
  {
   "cell_type": "code",
   "execution_count": 23,
   "metadata": {},
   "outputs": [],
   "source": [
    "df['uuid'] = pd.Series(None, index=df.index)\n",
    "df['uuid'] = df['uuid'].apply(lambda x : uuid.uuid4().hex)"
   ]
  },
  {
   "cell_type": "code",
   "execution_count": 24,
   "metadata": {},
   "outputs": [
    {
     "data": {
      "text/plain": [
       "MFG_WORKWEEK             int64\n",
       "SUMMARY_ID              object\n",
       "DESIGN_ID               object\n",
       "STEP                    object\n",
       "TEST_TYPE               object\n",
       "FAB_FACILITY_CODE        int64\n",
       "NUMBER_OF_DIE_IN_PKG     int64\n",
       "MACHINE_ID              object\n",
       "HANDLER                 object\n",
       "SPEED                   object\n",
       "TOTAL_SITES              int64\n",
       "START_ETIME             object\n",
       "UIN                      int64\n",
       "UPASS                    int64\n",
       "CONT                     int64\n",
       "uuid                    object\n",
       "dtype: object"
      ]
     },
     "execution_count": 24,
     "metadata": {},
     "output_type": "execute_result"
    }
   ],
   "source": [
    "df.dtypes"
   ]
  },
  {
   "cell_type": "code",
   "execution_count": 33,
   "metadata": {},
   "outputs": [],
   "source": [
    "df.to_sql(\"perfect_touch\",engine, if_exists=\"append\",index=False)"
   ]
  },
  {
   "cell_type": "code",
   "execution_count": null,
   "metadata": {},
   "outputs": [],
   "source": []
  }
 ],
 "metadata": {
  "kernelspec": {
   "display_name": "Python [conda env:anaconda3]",
   "language": "python",
   "name": "conda-env-anaconda3-py"
  },
  "language_info": {
   "codemirror_mode": {
    "name": "ipython",
    "version": 3
   },
   "file_extension": ".py",
   "mimetype": "text/x-python",
   "name": "python",
   "nbconvert_exporter": "python",
   "pygments_lexer": "ipython3",
   "version": "3.6.4"
  }
 },
 "nbformat": 4,
 "nbformat_minor": 2
}
